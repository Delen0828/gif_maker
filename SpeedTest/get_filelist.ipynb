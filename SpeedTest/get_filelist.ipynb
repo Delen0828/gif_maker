{
 "cells": [
  {
   "cell_type": "code",
   "execution_count": 6,
   "metadata": {},
   "outputs": [],
   "source": [
    "import re\n",
    "\n",
    "def retrieve(text):\n",
    "\tpattern = r\"(.+)_4_.*_time(.+?)\\.mp4\"\n",
    "\t# text = \"seq_notrace_his_4_AVGhhhh_VARhhhh_SPIKEhhhh_bgpy_time5.0\"\n",
    "\n",
    "\tmatch = re.search(pattern, text)\n",
    "\tif match:\n",
    "\t\tpart1, part2 = match.groups()\n",
    "\t\treturn(part1, part2)  # Output: seq_notrace_his 5.0\n",
    "\telse:\n",
    "\t\treturn(None,None)\n"
   ]
  },
  {
   "cell_type": "code",
   "execution_count": 7,
   "metadata": {},
   "outputs": [],
   "source": [
    "import os\n",
    "import json\n",
    "from collections import defaultdict\n",
    "def list_files(start_path):\n",
    "    for root, _, files in os.walk(start_path):\n",
    "        for filename in files:\n",
    "            yield os.path.relpath(os.path.join(root, filename), start=start_path)\n",
    "    \n",
    "# Example usage:\n",
    "start_path = 'out'\n",
    "filelist=defaultdict(list)\n",
    "for file_path in list_files(start_path):\n",
    "    design_type,time=retrieve(file_path)\n",
    "    filelist[design_type+time].append(file_path)\n",
    "with open('filelist.json','w') as f:\n",
    "\tjson.dump(dict(filelist),f)"
   ]
  }
 ],
 "metadata": {
  "kernelspec": {
   "display_name": "gif",
   "language": "python",
   "name": "python3"
  },
  "language_info": {
   "codemirror_mode": {
    "name": "ipython",
    "version": 3
   },
   "file_extension": ".py",
   "mimetype": "text/x-python",
   "name": "python",
   "nbconvert_exporter": "python",
   "pygments_lexer": "ipython3",
   "version": "3.12.1"
  }
 },
 "nbformat": 4,
 "nbformat_minor": 2
}
