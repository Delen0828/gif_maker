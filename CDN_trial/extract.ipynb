{
 "cells": [
  {
   "cell_type": "code",
   "execution_count": 6,
   "metadata": {},
   "outputs": [],
   "source": [
    "import os\n",
    "import re\n",
    "import pandas as pd\n",
    "import numpy as np\n",
    "import matplotlib.pyplot as plt"
   ]
  },
  {
   "cell_type": "code",
   "execution_count": 7,
   "metadata": {},
   "outputs": [
    {
     "name": "stderr",
     "output_type": "stream",
     "text": [
      "<>:5: SyntaxWarning: invalid escape sequence '\\.'\n",
      "<>:5: SyntaxWarning: invalid escape sequence '\\.'\n",
      "/var/folders/6k/pb317l7j3cvbw86w9005j5340000gp/T/ipykernel_84316/1918856986.py:5: SyntaxWarning: invalid escape sequence '\\.'\n",
      "  purename=re.split('\\.',filename)[0]\n"
     ]
    }
   ],
   "source": [
    "mean_list=[]\n",
    "var_list=[]\n",
    "for filename in os.listdir('data'):\n",
    "\tif filename!='.DS_Store':\n",
    "\t\tpurename=re.split('\\.',filename)[0]\n",
    "\t\tf = os.path.join('data', filename)\n",
    "\t\t# print(filename)\n",
    "\t\twith open(f,'rb') as fo:\n",
    "\t\t\tdata0=pd.read_parquet(fo,engine=\"fastparquet\")\n",
    "\t\tdata0.dropna(inplace=True)\n",
    "\t\tdelay_mean=data0.groupby('cdn')['ttfb_ms'].mean()\n",
    "\t\tdelay_var=data0.groupby('cdn')['ttfb_ms'].std()\n",
    "\t\tmean_list+=delay_mean.tolist()\n",
    "\t\tvar_list+=delay_var.tolist()\n",
    "\t\t# timestamp=data0.groupby('cdn')['start_time_ms'].apply(list).to_dict()"
   ]
  },
  {
   "cell_type": "code",
   "execution_count": 12,
   "metadata": {},
   "outputs": [
    {
     "data": {
      "image/png": "[encoded data removed]",
      "text/plain": [
       "<Figure size 640x480 with 1 Axes>"
      ]
     },
     "metadata": {},
     "output_type": "display_data"
    }
   ],
   "source": [
    "plt.hist(var_list)\n",
    "plt.show()"
   ]
  },
  {
   "cell_type": "code",
   "execution_count": 9,
   "metadata": {},
   "outputs": [],
   "source": [
    "import pickle\n",
    "with open('mean.pkl','wb') as f:\n",
    "\tpickle.dump(mean_list,f)\n",
    "with open('var.pkl','wb') as f:\n",
    "\tpickle.dump(var_list,f)\n"
   ]
  },
  {
   "cell_type": "code",
   "execution_count": null,
   "metadata": {},
   "outputs": [],
   "source": []
  }
 ],
 "metadata": {
  "kernelspec": {
   "display_name": "gif",
   "language": "python",
   "name": "python3"
  },
  "language_info": {
   "codemirror_mode": {
    "name": "ipython",
    "version": 3
   },
   "file_extension": ".py",
   "mimetype": "text/x-python",
   "name": "python",
   "nbconvert_exporter": "python",
   "pygments_lexer": "ipython3",
   "version": "3.12.1"
  }
 },
 "nbformat": 4,
 "nbformat_minor": 2
}
