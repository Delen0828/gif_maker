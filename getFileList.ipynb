{
 "cells": [
  {
   "cell_type": "code",
   "execution_count": null,
   "metadata": {},
   "outputs": [],
   "source": [
    "import os\n",
    "import json\n",
    "def list_files(start_path):\n",
    "    for root, _, files in os.walk(start_path):\n",
    "        for filename in files:\n",
    "            yield os.path.relpath(os.path.join(root, filename), start=start_path)\n",
    "\n",
    "# Example usage:\n",
    "start_path = 'testgif'\n",
    "filelist=[]\n",
    "for file_path in list_files(start_path):\n",
    "    filelist.append(file_path)\n",
    "with open('filelist.json','w') as f:\n",
    "\tjson.dump(filelist[1:],f)"
   ]
  }
 ],
 "metadata": {
  "kernelspec": {
   "display_name": "gif",
   "language": "python",
   "name": "python3"
  },
  "language_info": {
   "codemirror_mode": {
    "name": "ipython",
    "version": 3
   },
   "file_extension": ".py",
   "mimetype": "text/x-python",
   "name": "python",
   "nbconvert_exporter": "python",
   "pygments_lexer": "ipython3",
   "version": "3.12.1"
  }
 },
 "nbformat": 4,
 "nbformat_minor": 2
}
