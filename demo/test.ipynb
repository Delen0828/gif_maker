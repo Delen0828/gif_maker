{
 "cells": [
  {
   "cell_type": "code",
   "execution_count": 1,
   "metadata": {},
   "outputs": [],
   "source": [
    "import argparse\n",
    "import matplotlib.animation as anime\n",
    "import matplotlib.pyplot as plt\n",
    "import numpy as np\n",
    "# import pandas as pd\n",
    "import random\n",
    "import pickle\n",
    "SAMPLE_TIME=1\n",
    "DURATION=100\n",
    "SPIKE_H=10"
   ]
  },
  {
   "cell_type": "code",
   "execution_count": 4,
   "metadata": {},
   "outputs": [],
   "source": [
    "\n",
    "with open('mean.pkl','rb') as f:\n",
    "\tmean_list=pickle.load(f)\n",
    "with open('var.pkl','rb') as f:\n",
    "\tvar_list=pickle.load(f)\n",
    "def xList_create(duration):\n",
    "\treturn list(range(0,duration,1))\n",
    "def yList_create(index,avg,var,spike,spike_h,duration):\n",
    "\tbaseline=np.ones(duration)*avg\n",
    "\tvariation=np.random.random(duration)*var\n",
    "\tif spike is True:\n",
    "\t\tvariation[np.random.randint(duration)]+=spike_h*var\n",
    "\treturn baseline+variation\n",
    "\n",
    "def sampler_line(high_data,low_data):\n",
    "\treturn random.sample(high_data,1)[0],random.sample(high_data,1)[0],random.sample(high_data,1)[0],random.sample(high_data,1)[0]\n",
    "\n",
    "\t\n",
    "LINE_NUM=4\n",
    "\n",
    "AVG_HIGH=[i for i in mean_list if i > np.median(mean_list)]\n",
    "AVG_LOW=[i for i in mean_list if i < np.median(mean_list)]\n",
    "VAR_HIGH=[i for i in var_list if i > np.median(var_list)]\n",
    "VAR_LOW=[i for i in var_list if i < np.median(var_list)]\n",
    "\n",
    "CFG_LIST=[]\n",
    "\n",
    "IBM_PALLETE=['#117733','#88CCEE','#DDCC77','#AA4499'] \n",
    "COLOR_NAME=['g','b','y','p']\n"
   ]
  },
  {
   "cell_type": "code",
   "execution_count": 5,
   "metadata": {},
   "outputs": [],
   "source": [
    "fig = plt.figure()\n",
    "pallete=random.sample(IBM_PALLETE,LINE_NUM)\n",
    "colorName=''\n",
    "for color in pallete:\n",
    "\tcolorName+=(COLOR_NAME[IBM_PALLETE.index(color)])\n",
    "AVG=sampler_line(AVG_HIGH,AVG_LOW)\n",
    "VAR=sampler_line(VAR_HIGH,VAR_LOW)\n",
    "SPIKE=sampler_line([True],[False]) #This is deterministic\n",
    "\n",
    "writer = anime.PillowWriter(fps=50)\n",
    "# if args.move=='seq' and args.trace and args.history :\n",
    "xList=[] #Length of the line\n",
    "yList=[] #function that INPUT: AVG,VAR,SPIKE,OUTPUT: A series of num\n",
    "lineList=[]\n",
    "for i in range(LINE_NUM):\n",
    "\tl, = plt.plot([], [], color=pallete[i])\n",
    "\txList.append(xList_create(DURATION))\n",
    "\tyList.append(yList_create(i,AVG[i],VAR[i],SPIKE[i],SPIKE_H,DURATION))\n",
    "\tplt.xlim(0,DURATION) #depend on Duration\n",
    "\tplt.ylim(0,max(500,max(AVG+VAR*(SPIKE_H+1))) )\n",
    "\tlineList.append(l)\n",
    "plt.close()\n",
    "with writer.saving(fig, f\"seq_trace_{colorName}.gif\", 100):\n",
    "\tfor i in range(LINE_NUM):\n",
    "\t\tfor j in range(DURATION):\n",
    "\t\t\tlineList[i].set_data(xList[i][:j], yList[i][:j])\n",
    "\t\t\twriter.grab_frame()\n",
    "\tfor _ in range(200):\n",
    "\t\twriter.grab_frame()"
   ]
  }
 ],
 "metadata": {
  "kernelspec": {
   "display_name": "gif",
   "language": "python",
   "name": "python3"
  },
  "language_info": {
   "codemirror_mode": {
    "name": "ipython",
    "version": 3
   },
   "file_extension": ".py",
   "mimetype": "text/x-python",
   "name": "python",
   "nbconvert_exporter": "python",
   "pygments_lexer": "ipython3",
   "version": "3.12.1"
  }
 },
 "nbformat": 4,
 "nbformat_minor": 2
}
